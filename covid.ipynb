{
 "cells": [
  {
   "cell_type": "code",
   "execution_count": 1,
   "id": "d6906b8e",
   "metadata": {},
   "outputs": [],
   "source": [
    "import tensorflow as tf\n",
    "from keras.preprocessing.image import ImageDataGenerator"
   ]
  },
  {
   "cell_type": "code",
   "execution_count": 2,
   "id": "5ef8cdbd",
   "metadata": {},
   "outputs": [
    {
     "data": {
      "text/plain": [
       "'2.9.1'"
      ]
     },
     "execution_count": 2,
     "metadata": {},
     "output_type": "execute_result"
    }
   ],
   "source": [
    "tf.__version__"
   ]
  },
  {
   "cell_type": "code",
   "execution_count": 3,
   "id": "6cbed461",
   "metadata": {},
   "outputs": [
    {
     "name": "stdout",
     "output_type": "stream",
     "text": [
      "Found 251 images belonging to 3 classes.\n"
     ]
    }
   ],
   "source": [
    "train_datagen = ImageDataGenerator(rescale = 1./255,\n",
    "                                   shear_range = 0.2,\n",
    "                                   zoom_range = 0.2,\n",
    "                                   horizontal_flip = True)\n",
    "training_set = train_datagen.flow_from_directory(\"C:/Users/kdipu/Downloads/archive (2) (1)/Covid19-dataset/train\",\n",
    "                                                 target_size = (64, 64),\n",
    "                                                 batch_size = 32,\n",
    "                                                 class_mode = 'sparse')"
   ]
  },
  {
   "cell_type": "code",
   "execution_count": 4,
   "id": "b41b32e1",
   "metadata": {},
   "outputs": [
    {
     "name": "stdout",
     "output_type": "stream",
     "text": [
      "Found 66 images belonging to 3 classes.\n"
     ]
    }
   ],
   "source": [
    "test_datagen = ImageDataGenerator(rescale = 1./255)\n",
    "test_set = test_datagen.flow_from_directory(\"C:/Users/kdipu/Downloads/archive (2) (1)/Covid19-dataset/test\",\n",
    "                                            target_size = (64, 64),\n",
    "                                            batch_size = 32,\n",
    "                                            class_mode = 'sparse')"
   ]
  },
  {
   "cell_type": "code",
   "execution_count": 5,
   "id": "5e01cd8d",
   "metadata": {},
   "outputs": [],
   "source": [
    "cnn = tf.keras.models.Sequential()"
   ]
  },
  {
   "cell_type": "code",
   "execution_count": 6,
   "id": "9e840725",
   "metadata": {},
   "outputs": [],
   "source": [
    "cnn.add(tf.keras.layers.Conv2D(filters=32, kernel_size=3, activation='relu', input_shape=[64, 64, 3]))"
   ]
  },
  {
   "cell_type": "code",
   "execution_count": 7,
   "id": "81bc497c",
   "metadata": {},
   "outputs": [],
   "source": [
    "cnn.add(tf.keras.layers.MaxPool2D(pool_size=2, strides=2))"
   ]
  },
  {
   "cell_type": "code",
   "execution_count": 8,
   "id": "af193bc5",
   "metadata": {},
   "outputs": [],
   "source": [
    "cnn.add(tf.keras.layers.Conv2D(filters=32, kernel_size=3, activation='relu'))\n",
    "cnn.add(tf.keras.layers.MaxPool2D(pool_size=2, strides=2))"
   ]
  },
  {
   "cell_type": "code",
   "execution_count": 9,
   "id": "e8e9dae2",
   "metadata": {},
   "outputs": [],
   "source": [
    "cnn.add(tf.keras.layers.Flatten())"
   ]
  },
  {
   "cell_type": "code",
   "execution_count": 10,
   "id": "d52eee22",
   "metadata": {},
   "outputs": [],
   "source": [
    "cnn.add(tf.keras.layers.Dense(units=128, activation='relu'))"
   ]
  },
  {
   "cell_type": "code",
   "execution_count": 11,
   "id": "5223040a",
   "metadata": {},
   "outputs": [],
   "source": [
    "cnn.add(tf.keras.layers.Dense(units=4, activation='softmax'))"
   ]
  },
  {
   "cell_type": "code",
   "execution_count": 12,
   "id": "09aa1f64",
   "metadata": {},
   "outputs": [],
   "source": [
    "cnn.compile(optimizer = 'adam', loss = 'sparse_categorical_crossentropy', metrics = ['accuracy'])"
   ]
  },
  {
   "cell_type": "code",
   "execution_count": 13,
   "id": "e79f65f1",
   "metadata": {},
   "outputs": [
    {
     "name": "stdout",
     "output_type": "stream",
     "text": [
      "Epoch 1/50\n",
      "8/8 [==============================] - 38s 5s/step - loss: 1.0429 - accuracy: 0.5060 - val_loss: 0.7964 - val_accuracy: 0.5455\n",
      "Epoch 2/50\n",
      "8/8 [==============================] - 27s 4s/step - loss: 0.7425 - accuracy: 0.7052 - val_loss: 0.6140 - val_accuracy: 0.8030\n",
      "Epoch 3/50\n",
      "8/8 [==============================] - 32s 4s/step - loss: 0.5097 - accuracy: 0.7968 - val_loss: 0.5082 - val_accuracy: 0.8030\n",
      "Epoch 4/50\n",
      "8/8 [==============================] - 25s 3s/step - loss: 0.4552 - accuracy: 0.8088 - val_loss: 0.4329 - val_accuracy: 0.8182\n",
      "Epoch 5/50\n",
      "8/8 [==============================] - 30s 4s/step - loss: 0.3524 - accuracy: 0.8645 - val_loss: 0.4554 - val_accuracy: 0.8333\n",
      "Epoch 6/50\n",
      "8/8 [==============================] - 28s 4s/step - loss: 0.3822 - accuracy: 0.8526 - val_loss: 0.3602 - val_accuracy: 0.8636\n",
      "Epoch 7/50\n",
      "8/8 [==============================] - 30s 4s/step - loss: 0.3039 - accuracy: 0.8964 - val_loss: 0.4136 - val_accuracy: 0.7424\n",
      "Epoch 8/50\n",
      "8/8 [==============================] - 29s 4s/step - loss: 0.3614 - accuracy: 0.8526 - val_loss: 0.3284 - val_accuracy: 0.8636\n",
      "Epoch 9/50\n",
      "8/8 [==============================] - 30s 4s/step - loss: 0.2969 - accuracy: 0.8845 - val_loss: 0.4620 - val_accuracy: 0.8485\n",
      "Epoch 10/50\n",
      "8/8 [==============================] - 30s 4s/step - loss: 0.3071 - accuracy: 0.8845 - val_loss: 0.4027 - val_accuracy: 0.8333\n",
      "Epoch 11/50\n",
      "8/8 [==============================] - 23s 3s/step - loss: 0.2505 - accuracy: 0.9203 - val_loss: 0.4257 - val_accuracy: 0.8485\n",
      "Epoch 12/50\n",
      "8/8 [==============================] - 34s 4s/step - loss: 0.3091 - accuracy: 0.8805 - val_loss: 0.4893 - val_accuracy: 0.7879\n",
      "Epoch 13/50\n",
      "8/8 [==============================] - 25s 3s/step - loss: 0.2796 - accuracy: 0.9004 - val_loss: 0.4188 - val_accuracy: 0.8485\n",
      "Epoch 14/50\n",
      "8/8 [==============================] - 31s 4s/step - loss: 0.2988 - accuracy: 0.8845 - val_loss: 0.3497 - val_accuracy: 0.8788\n",
      "Epoch 15/50\n",
      "8/8 [==============================] - 23s 3s/step - loss: 0.2443 - accuracy: 0.9163 - val_loss: 0.3689 - val_accuracy: 0.8636\n",
      "Epoch 16/50\n",
      "8/8 [==============================] - 31s 4s/step - loss: 0.2251 - accuracy: 0.9163 - val_loss: 0.2670 - val_accuracy: 0.9091\n",
      "Epoch 17/50\n",
      "8/8 [==============================] - 22s 3s/step - loss: 0.2200 - accuracy: 0.9283 - val_loss: 0.2491 - val_accuracy: 0.8788\n",
      "Epoch 18/50\n",
      "8/8 [==============================] - 30s 4s/step - loss: 0.1818 - accuracy: 0.9323 - val_loss: 0.4016 - val_accuracy: 0.8485\n",
      "Epoch 19/50\n",
      "8/8 [==============================] - 26s 3s/step - loss: 0.2133 - accuracy: 0.9084 - val_loss: 0.2674 - val_accuracy: 0.8939\n",
      "Epoch 20/50\n",
      "8/8 [==============================] - 29s 4s/step - loss: 0.1703 - accuracy: 0.9283 - val_loss: 0.2443 - val_accuracy: 0.9091\n",
      "Epoch 21/50\n",
      "8/8 [==============================] - 27s 3s/step - loss: 0.1800 - accuracy: 0.9203 - val_loss: 0.2637 - val_accuracy: 0.9394\n",
      "Epoch 22/50\n",
      "8/8 [==============================] - 28s 3s/step - loss: 0.1653 - accuracy: 0.9442 - val_loss: 0.2718 - val_accuracy: 0.9394\n",
      "Epoch 23/50\n",
      "8/8 [==============================] - 28s 3s/step - loss: 0.1394 - accuracy: 0.9641 - val_loss: 0.2415 - val_accuracy: 0.9091\n",
      "Epoch 24/50\n",
      "8/8 [==============================] - 28s 3s/step - loss: 0.1366 - accuracy: 0.9442 - val_loss: 0.2197 - val_accuracy: 0.9091\n",
      "Epoch 25/50\n",
      "8/8 [==============================] - 28s 4s/step - loss: 0.1252 - accuracy: 0.9602 - val_loss: 0.2177 - val_accuracy: 0.9545\n",
      "Epoch 26/50\n",
      "8/8 [==============================] - 26s 3s/step - loss: 0.1442 - accuracy: 0.9522 - val_loss: 0.3012 - val_accuracy: 0.9091\n",
      "Epoch 27/50\n",
      "8/8 [==============================] - 29s 4s/step - loss: 0.1979 - accuracy: 0.9402 - val_loss: 0.2387 - val_accuracy: 0.9545\n",
      "Epoch 28/50\n",
      "8/8 [==============================] - 27s 3s/step - loss: 0.1975 - accuracy: 0.9363 - val_loss: 0.2861 - val_accuracy: 0.9242\n",
      "Epoch 29/50\n",
      "8/8 [==============================] - 28s 3s/step - loss: 0.1639 - accuracy: 0.9442 - val_loss: 0.2767 - val_accuracy: 0.8788\n",
      "Epoch 30/50\n",
      "8/8 [==============================] - 30s 4s/step - loss: 0.1389 - accuracy: 0.9482 - val_loss: 0.2072 - val_accuracy: 0.9091\n",
      "Epoch 31/50\n",
      "8/8 [==============================] - 29s 3s/step - loss: 0.1792 - accuracy: 0.9363 - val_loss: 0.2476 - val_accuracy: 0.9242\n",
      "Epoch 32/50\n",
      "8/8 [==============================] - 28s 4s/step - loss: 0.1612 - accuracy: 0.9323 - val_loss: 0.2927 - val_accuracy: 0.9091\n",
      "Epoch 33/50\n",
      "8/8 [==============================] - 27s 3s/step - loss: 0.2102 - accuracy: 0.9044 - val_loss: 0.2650 - val_accuracy: 0.8939\n",
      "Epoch 34/50\n",
      "8/8 [==============================] - 31s 4s/step - loss: 0.1655 - accuracy: 0.9363 - val_loss: 0.2972 - val_accuracy: 0.8485\n",
      "Epoch 35/50\n",
      "8/8 [==============================] - 25s 3s/step - loss: 0.1332 - accuracy: 0.9363 - val_loss: 0.3164 - val_accuracy: 0.9091\n",
      "Epoch 36/50\n",
      "8/8 [==============================] - 32s 4s/step - loss: 0.1222 - accuracy: 0.9602 - val_loss: 0.2260 - val_accuracy: 0.9242\n",
      "Epoch 37/50\n",
      "8/8 [==============================] - 24s 3s/step - loss: 0.1153 - accuracy: 0.9442 - val_loss: 0.2795 - val_accuracy: 0.9242\n",
      "Epoch 38/50\n",
      "8/8 [==============================] - 32s 4s/step - loss: 0.1248 - accuracy: 0.9442 - val_loss: 0.2540 - val_accuracy: 0.9242\n",
      "Epoch 39/50\n",
      "8/8 [==============================] - 20s 2s/step - loss: 0.1215 - accuracy: 0.9602 - val_loss: 0.1804 - val_accuracy: 0.9545\n",
      "Epoch 40/50\n",
      "8/8 [==============================] - 8s 985ms/step - loss: 0.1261 - accuracy: 0.9562 - val_loss: 0.3120 - val_accuracy: 0.8485\n",
      "Epoch 41/50\n",
      "8/8 [==============================] - 8s 988ms/step - loss: 0.1457 - accuracy: 0.9402 - val_loss: 0.2572 - val_accuracy: 0.9545\n",
      "Epoch 42/50\n",
      "8/8 [==============================] - 7s 955ms/step - loss: 0.1165 - accuracy: 0.9602 - val_loss: 0.1814 - val_accuracy: 0.9394\n",
      "Epoch 43/50\n",
      "8/8 [==============================] - 7s 957ms/step - loss: 0.0913 - accuracy: 0.9641 - val_loss: 0.1864 - val_accuracy: 0.9394\n",
      "Epoch 44/50\n",
      "8/8 [==============================] - 8s 1s/step - loss: 0.0948 - accuracy: 0.9602 - val_loss: 0.2092 - val_accuracy: 0.9394\n",
      "Epoch 45/50\n",
      "8/8 [==============================] - 8s 1s/step - loss: 0.1009 - accuracy: 0.9641 - val_loss: 0.2069 - val_accuracy: 0.9091\n",
      "Epoch 46/50\n",
      "8/8 [==============================] - 8s 976ms/step - loss: 0.0737 - accuracy: 0.9761 - val_loss: 0.2364 - val_accuracy: 0.9394\n",
      "Epoch 47/50\n",
      "8/8 [==============================] - 8s 974ms/step - loss: 0.0727 - accuracy: 0.9841 - val_loss: 0.2388 - val_accuracy: 0.9091\n",
      "Epoch 48/50\n",
      "8/8 [==============================] - 8s 991ms/step - loss: 0.0677 - accuracy: 0.9721 - val_loss: 0.1797 - val_accuracy: 0.9394\n",
      "Epoch 49/50\n",
      "8/8 [==============================] - 8s 999ms/step - loss: 0.0668 - accuracy: 0.9801 - val_loss: 0.2344 - val_accuracy: 0.9091\n",
      "Epoch 50/50\n",
      "8/8 [==============================] - 8s 1s/step - loss: 0.0891 - accuracy: 0.9562 - val_loss: 0.2249 - val_accuracy: 0.9545\n"
     ]
    },
    {
     "data": {
      "text/plain": [
       "<keras.callbacks.History at 0x1ae35ac08b0>"
      ]
     },
     "execution_count": 13,
     "metadata": {},
     "output_type": "execute_result"
    }
   ],
   "source": [
    "cnn.fit(x = training_set, validation_data = test_set, epochs = 50)"
   ]
  },
  {
   "cell_type": "code",
   "execution_count": 14,
   "id": "5e8586e6",
   "metadata": {},
   "outputs": [
    {
     "data": {
      "image/png": "[encoded data removed]",
      "text/plain": [
       "<PIL.Image.Image image mode=RGB size=64x64 at 0x1AE35B58BE0>"
      ]
     },
     "execution_count": 14,
     "metadata": {},
     "output_type": "execute_result"
    }
   ],
   "source": [
    "from tensorflow.keras.preprocessing import image\n",
    "test_image = image.load_img(\"C:/Users/kdipu/Downloads/archive (2) (1)/Covid19-dataset/test/Viral Pneumonia/0111.jpeg\", target_size = (64, 64))\n",
    "test_image\n",
    "\n",
    "\n",
    "\n",
    "\n",
    "\n"
   ]
  },
  {
   "cell_type": "code",
   "execution_count": null,
   "id": "ab513573",
   "metadata": {},
   "outputs": [],
   "source": []
  },
  {
   "cell_type": "code",
   "execution_count": 15,
   "id": "e01a4f9f",
   "metadata": {
    "scrolled": true
   },
   "outputs": [
    {
     "name": "stdout",
     "output_type": "stream",
     "text": [
      "1/1 [==============================] - 2s 2s/step\n",
      "2\n"
     ]
    }
   ],
   "source": [
    "import numpy as np\n",
    "from tensorflow.keras.preprocessing import image\n",
    "\n",
    "test_image = image.load_img(\"C:/Users/kdipu/Downloads/archive (2) (1)/Covid19-dataset/test/Viral Pneumonia/0111.jpeg\" , target_size = (64, 64))\n",
    "\n",
    "\n",
    "test_image = image.img_to_array(test_image)\n",
    "test_image = np.expand_dims(test_image,axis = 0)\n",
    "\n",
    "\n",
    "result = cnn.predict(test_image)\n",
    "\n",
    "result=result.astype(int)\n",
    "Y=training_set.class_indices\n",
    "j=0\n",
    "i = 0\n",
    "while i < 3:\n",
    "    \n",
    "    if result[0][i] == 1:\n",
    "        break\n",
    "    i=i+1\n",
    "print(i)\n",
    "j=i\n",
    "if j == 0:\n",
    " prediction = 'covid'\n",
    "    \n",
    "elif j == 1:\n",
    " prediction = 'normal'\n",
    "elif j == 2:\n",
    " prediction = 'viral'\n"
   ]
  },
  {
   "cell_type": "code",
   "execution_count": 16,
   "id": "bc3454cc",
   "metadata": {},
   "outputs": [
    {
     "name": "stdout",
     "output_type": "stream",
     "text": [
      "viral\n"
     ]
    }
   ],
   "source": [
    "print(prediction)"
   ]
  },
  {
   "cell_type": "code",
   "execution_count": 17,
   "id": "62b19d02",
   "metadata": {},
   "outputs": [
    {
     "data": {
      "image/png": "[encoded data removed]",
      "text/plain": [
       "<PIL.Image.Image image mode=RGB size=64x64 at 0x1AE2F1E5B20>"
      ]
     },
     "execution_count": 17,
     "metadata": {},
     "output_type": "execute_result"
    }
   ],
   "source": [
    "from tensorflow.keras.preprocessing import image\n",
    "test_image = image.load_img(\"C:/Users/kdipu/Downloads/archive (2) (1)/Covid19-dataset/test/Covid/auntminnie-c-2020_01_28_23_51_6665_2020_01_28_Vietnam_coronavirus.jpeg\", target_size = (64, 64))\n",
    "test_image\n"
   ]
  },
  {
   "cell_type": "code",
   "execution_count": 18,
   "id": "7dbb635c",
   "metadata": {},
   "outputs": [
    {
     "name": "stdout",
     "output_type": "stream",
     "text": [
      "1/1 [==============================] - 0s 21ms/step\n",
      "0\n"
     ]
    }
   ],
   "source": [
    "import numpy as np\n",
    "from tensorflow.keras.preprocessing import image\n",
    "\n",
    "test_image = image.load_img(\"C:/Users/kdipu/Downloads/archive (2) (1)/Covid19-dataset/test/Covid/auntminnie-c-2020_01_28_23_51_6665_2020_01_28_Vietnam_coronavirus.jpeg\" , target_size = (64, 64))\n",
    "\n",
    "\n",
    "test_image = image.img_to_array(test_image)\n",
    "test_image = np.expand_dims(test_image,axis = 0)\n",
    "\n",
    "\n",
    "result = cnn.predict(test_image)\n",
    "\n",
    "result=result.astype(int)\n",
    "Y=training_set.class_indices\n",
    "j=0\n",
    "i = 0\n",
    "while i < 3:\n",
    "    \n",
    "    if result[0][i] == 1:\n",
    "        break\n",
    "    i=i+1\n",
    "print(i)\n",
    "j=i\n",
    "if j == 0:\n",
    " prediction = 'covid'\n",
    "    \n",
    "elif j == 1:\n",
    " prediction = 'normal'\n",
    "elif j == 2:\n",
    " prediction = 'viral'"
   ]
  },
  {
   "cell_type": "code",
   "execution_count": 19,
   "id": "3eea2d8b",
   "metadata": {},
   "outputs": [
    {
     "name": "stdout",
     "output_type": "stream",
     "text": [
      "covid\n"
     ]
    }
   ],
   "source": [
    "print(prediction)"
   ]
  },
  {
   "cell_type": "code",
   "execution_count": null,
   "id": "482057f8",
   "metadata": {},
   "outputs": [],
   "source": []
  }
 ],
 "metadata": {
  "kernelspec": {
   "display_name": "Python 3 (ipykernel)",
   "language": "python",
   "name": "python3"
  },
  "language_info": {
   "codemirror_mode": {
    "name": "ipython",
    "version": 3
   },
   "file_extension": ".py",
   "mimetype": "text/x-python",
   "name": "python",
   "nbconvert_exporter": "python",
   "pygments_lexer": "ipython3",
   "version": "3.9.7"
  }
 },
 "nbformat": 4,
 "nbformat_minor": 5
}
